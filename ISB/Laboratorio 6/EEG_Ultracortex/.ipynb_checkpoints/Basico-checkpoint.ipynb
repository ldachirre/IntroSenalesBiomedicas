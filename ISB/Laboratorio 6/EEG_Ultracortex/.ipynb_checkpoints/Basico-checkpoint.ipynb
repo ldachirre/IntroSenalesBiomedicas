{
 "cells": [
  {
   "cell_type": "markdown",
   "id": "acb0fc77-8f68-4c30-a31f-5e01c1151f54",
   "metadata": {},
   "source": [
    "# Tutorial of Jupyter Lab"
   ]
  },
  {
   "cell_type": "markdown",
   "id": "1f27b52c-870b-4926-ad0b-0afd863c4583",
   "metadata": {
    "tags": []
   },
   "source": [
    "## Creating matrices in NumPy:\n",
    "\n",
    "First, you need to import the NumPy library into your code:"
   ]
  },
  {
   "cell_type": "code",
   "execution_count": 22,
   "id": "01521f12-1dda-4b46-aaba-1ab91ca97cf3",
   "metadata": {},
   "outputs": [],
   "source": [
    "import numpy as np"
   ]
  },
  {
   "cell_type": "markdown",
   "id": "9f40249d-3511-4c81-8861-e7f63ba83aaf",
   "metadata": {
    "jp-MarkdownHeadingCollapsed": true,
    "tags": []
   },
   "source": [
    "Next, you can create a matrix in various ways. For example, a matrix with 3 rows and 4 columns with all elements equal to zero can be created as follows:\n",
    "\n"
   ]
  },
  {
   "cell_type": "markdown",
   "id": "b0330f49-8d39-445c-8637-8834d225724c",
   "metadata": {},
   "source": [
    "### 1. Zeros"
   ]
  },
  {
   "cell_type": "code",
   "execution_count": 23,
   "id": "7c78a9eb-d2b8-4135-8bba-3b55b0708030",
   "metadata": {
    "tags": []
   },
   "outputs": [
    {
     "data": {
      "text/plain": [
       "array([[0., 0., 0., 0.],\n",
       "       [0., 0., 0., 0.],\n",
       "       [0., 0., 0., 0.]])"
      ]
     },
     "execution_count": 23,
     "metadata": {},
     "output_type": "execute_result"
    }
   ],
   "source": [
    "zero_matrix = np.zeros((3, 4))\n",
    "zero_matrix"
   ]
  },
  {
   "cell_type": "markdown",
   "id": "90b14f97-1fde-4f8b-b6e5-fb711823673a",
   "metadata": {},
   "source": [
    "### 2. Ones"
   ]
  },
  {
   "cell_type": "code",
   "execution_count": 24,
   "id": "f6e3ac41-f33b-4510-b6a4-cc26e07e2046",
   "metadata": {
    "tags": []
   },
   "outputs": [
    {
     "data": {
      "text/plain": [
       "array([[1., 1., 1., 1.],\n",
       "       [1., 1., 1., 1.],\n",
       "       [1., 1., 1., 1.]])"
      ]
     },
     "execution_count": 24,
     "metadata": {},
     "output_type": "execute_result"
    }
   ],
   "source": [
    "ones_matrix = np.ones((3, 4))\n",
    "ones_matrix"
   ]
  },
  {
   "cell_type": "markdown",
   "id": "4631e95b-a49c-4b6a-b902-8d6893aab383",
   "metadata": {},
   "source": [
    "### 3. Random"
   ]
  },
  {
   "cell_type": "code",
   "execution_count": 31,
   "id": "c35b4304-1959-410b-9613-a610ba15c87a",
   "metadata": {
    "tags": []
   },
   "outputs": [
    {
     "data": {
      "text/plain": [
       "array([[0.0252028 , 0.90389366, 0.05449971, 0.96610416],\n",
       "       [0.69761789, 0.6519929 , 0.23435848, 0.52349765],\n",
       "       [0.37054869, 0.46522265, 0.97687453, 0.00810808]])"
      ]
     },
     "execution_count": 31,
     "metadata": {},
     "output_type": "execute_result"
    }
   ],
   "source": [
    "random_matrix = np.random.rand(3, 4)\n",
    "random_matrix"
   ]
  },
  {
   "cell_type": "markdown",
   "id": "3faf2fda-0470-451b-b1d3-488c26106140",
   "metadata": {},
   "source": [
    "## Indexing matrices in NumPy:\n",
    "\n"
   ]
  },
  {
   "cell_type": "markdown",
   "id": "7cfecb85-adf4-4939-b248-734c7f9d16f5",
   "metadata": {
    "tags": []
   },
   "source": [
    "To access specific elements in a NumPy matrix, you can use matrix indexing. Matrix indexing in NumPy is similar to list indexing in Python, but with some differences.\n",
    "\n",
    "Suppose you have the following matrix:"
   ]
  },
  {
   "cell_type": "code",
   "execution_count": 26,
   "id": "ad3e6d49-de71-4b0a-b5d6-85af9a7fa9c0",
   "metadata": {
    "tags": []
   },
   "outputs": [
    {
     "data": {
      "text/plain": [
       "array([[1, 2, 3],\n",
       "       [4, 5, 6],\n",
       "       [7, 8, 9]])"
      ]
     },
     "execution_count": 26,
     "metadata": {},
     "output_type": "execute_result"
    }
   ],
   "source": [
    "matrix = np.array([[1, 2, 3], [4, 5, 6], [7, 8, 9]])\n",
    "matrix\n"
   ]
  },
  {
   "cell_type": "markdown",
   "id": "acd1deca-ca7d-4347-a90c-e0b50f9bd8db",
   "metadata": {},
   "source": [
    "* To access the element in row 0 and column 1, you can do the following:"
   ]
  },
  {
   "cell_type": "code",
   "execution_count": 27,
   "id": "024c5eaf-5f6c-4177-a399-7a6fcd79e92e",
   "metadata": {
    "tags": []
   },
   "outputs": [
    {
     "data": {
      "text/plain": [
       "2"
      ]
     },
     "execution_count": 27,
     "metadata": {},
     "output_type": "execute_result"
    }
   ],
   "source": [
    "element = matrix[0, 1]\n",
    "element"
   ]
  },
  {
   "cell_type": "markdown",
   "id": "73352528-8045-447e-8de9-42afa25c07b7",
   "metadata": {},
   "source": [
    "* You can also access an entire row or column. To access the first column of the matrix, you can do the following:"
   ]
  },
  {
   "cell_type": "code",
   "execution_count": 28,
   "id": "9a63ecd6-0f50-4f26-a8f3-e8ca3e2252b4",
   "metadata": {
    "tags": []
   },
   "outputs": [
    {
     "data": {
      "text/plain": [
       "array([1, 4, 7])"
      ]
     },
     "execution_count": 28,
     "metadata": {},
     "output_type": "execute_result"
    }
   ],
   "source": [
    "column = matrix[:, 0]\n",
    "column"
   ]
  },
  {
   "cell_type": "markdown",
   "id": "c1fd6e1a-7058-4afa-ad17-d37b9583299d",
   "metadata": {},
   "source": [
    "You can also **modify** specific elements in a NumPy matrix. For example, **if you want to change the value of the element in row 0 and column 1 to 10**, you can do the following:"
   ]
  },
  {
   "cell_type": "code",
   "execution_count": 29,
   "id": "696b3f99-3290-45ef-841a-a254ec255270",
   "metadata": {
    "tags": []
   },
   "outputs": [
    {
     "name": "stdout",
     "output_type": "stream",
     "text": [
      "[[1 2 3]\n",
      " [4 5 6]\n",
      " [7 8 9]]\n"
     ]
    },
    {
     "data": {
      "text/plain": [
       "array([[ 1, 10,  3],\n",
       "       [ 4,  5,  6],\n",
       "       [ 7,  8,  9]])"
      ]
     },
     "execution_count": 29,
     "metadata": {},
     "output_type": "execute_result"
    }
   ],
   "source": [
    "print(matrix)\n",
    "matrix[0, 1] = 10\n",
    "matrix"
   ]
  },
  {
   "cell_type": "markdown",
   "id": "5e50c069-fabb-43fd-804e-e64ea8aa8cbc",
   "metadata": {},
   "source": [
    "You can also **_modify an entire row_** or column in the same way. For example, to change the second row of the matrix to [0, 0, 0], you can do the following:"
   ]
  },
  {
   "cell_type": "code",
   "execution_count": 32,
   "id": "6ea2adda-79fe-412b-99bb-e47f919681f2",
   "metadata": {
    "tags": []
   },
   "outputs": [
    {
     "name": "stdout",
     "output_type": "stream",
     "text": [
      "[[ 1 10  3]\n",
      " [ 0  0  0]\n",
      " [ 7  8  9]]\n"
     ]
    },
    {
     "data": {
      "text/plain": [
       "array([[ 1, 10,  3],\n",
       "       [ 0,  0,  0],\n",
       "       [ 7,  8,  9]])"
      ]
     },
     "execution_count": 32,
     "metadata": {},
     "output_type": "execute_result"
    }
   ],
   "source": [
    "print(matrix)\n",
    "matrix[1, :] = [0, 0, 0]\n",
    "matrix"
   ]
  },
  {
   "cell_type": "markdown",
   "id": "ed50448e-da50-407d-b0ec-61a32608f2bf",
   "metadata": {},
   "source": [
    "## Extras"
   ]
  },
  {
   "cell_type": "markdown",
   "id": "d7c57dd7-ce8f-4fc5-8da7-95146fa96ec3",
   "metadata": {},
   "source": [
    "### Creating identity matrices in NumPy:\n"
   ]
  },
  {
   "cell_type": "markdown",
   "id": "e49f6e80-5d1b-4de0-9558-15b1f1e34256",
   "metadata": {},
   "source": [
    "\n",
    "To create an identity matrix in NumPy, you can use the `np.identity(n)` function where n is the number of rows (and columns) of the matrix you want to create."
   ]
  },
  {
   "cell_type": "code",
   "execution_count": 33,
   "id": "0010e534-b222-4ded-93fe-4de359280025",
   "metadata": {
    "tags": []
   },
   "outputs": [
    {
     "name": "stdout",
     "output_type": "stream",
     "text": [
      "[[1. 0. 0.]\n",
      " [0. 1. 0.]\n",
      " [0. 0. 1.]]\n"
     ]
    }
   ],
   "source": [
    "identity_matrix = np.identity(3)\n",
    "print(identity_matrix)"
   ]
  },
  {
   "cell_type": "markdown",
   "id": "4fec8dca-2e73-4411-ba24-63be30e83994",
   "metadata": {},
   "source": [
    "### Constructing a diagonal array"
   ]
  },
  {
   "cell_type": "markdown",
   "id": "d22c1534-9f57-496e-b3ff-6caa50499f71",
   "metadata": {
    "tags": []
   },
   "source": [
    "Suppose we have a 1D array `v` and we want to construct a diagonal array with an offset of 1:"
   ]
  },
  {
   "cell_type": "code",
   "execution_count": 37,
   "id": "e5dccd0c-ff93-4930-9fe5-d3b2596e9935",
   "metadata": {
    "tags": []
   },
   "outputs": [],
   "source": [
    "v = np.array([1, 2, 3])\n"
   ]
  },
  {
   "cell_type": "markdown",
   "id": "3870a690-70b8-4f18-9838-0e6a4049724c",
   "metadata": {
    "tags": []
   },
   "source": [
    "We can construct the diagonal array with an offset of 1 using `np.diag`:"
   ]
  },
  {
   "cell_type": "code",
   "execution_count": 38,
   "id": "8de510bf-cacf-47f1-93f8-5b0893a612fb",
   "metadata": {
    "tags": []
   },
   "outputs": [
    {
     "data": {
      "text/plain": [
       "array([[0, 1, 0, 0],\n",
       "       [0, 0, 2, 0],\n",
       "       [0, 0, 0, 3],\n",
       "       [0, 0, 0, 0]])"
      ]
     },
     "execution_count": 38,
     "metadata": {},
     "output_type": "execute_result"
    }
   ],
   "source": [
    "np.diag(v, k=1)\n"
   ]
  },
  {
   "cell_type": "markdown",
   "id": "3bdf976a-d4b1-4dcb-ac05-02e43c636cee",
   "metadata": {},
   "source": [
    "## Links referenciales"
   ]
  },
  {
   "cell_type": "markdown",
   "id": "aa62541b-ca84-48dd-8217-388c97445863",
   "metadata": {
    "tags": []
   },
   "source": [
    "* [JupyterLab](https://jupyterlab.readthedocs.io/en/stable/getting_started/starting.html)\n",
    "\n",
    "* [Basics Jupyterlab - Github](http://justinbois.github.io/bootcamp/2020_fsri/lessons/l01_welcome.html)\n",
    "\n",
    "* [Markdown basisc github](https://docs.github.com/en/get-started/writing-on-github/getting-started-with-writing-and-formatting-on-github/basic-writing-and-formatting-syntax)\n",
    "\n",
    "* [Numpy](https://numpy.org/devdocs/index.html)\n",
    "\n",
    "* [Matplotlib](https://matplotlib.org/stable/index.html)\n",
    "\n",
    "* [Pandas](https://pandas.pydata.org/docs/)\n",
    "\n"
   ]
  }
 ],
 "metadata": {
  "kernelspec": {
   "display_name": "Python 3 (ipykernel)",
   "language": "python",
   "name": "python3"
  },
  "language_info": {
   "codemirror_mode": {
    "name": "ipython",
    "version": 3
   },
   "file_extension": ".py",
   "mimetype": "text/x-python",
   "name": "python",
   "nbconvert_exporter": "python",
   "pygments_lexer": "ipython3",
   "version": "3.11.1"
  }
 },
 "nbformat": 4,
 "nbformat_minor": 5
}
