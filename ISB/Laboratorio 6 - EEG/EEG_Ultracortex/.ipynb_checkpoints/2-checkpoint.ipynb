{
 "cells": [
  {
   "cell_type": "markdown",
   "metadata": {
    "id": "D_uoWvX8t3os"
   },
   "source": [
    "# Guided practice 1 (PG1)\n",
    "## Exercise 1 : Evaluation of convergence of infinite series (10p)\n",
    "\n",
    "\n",
    "Generate a code that can help you to identify if the next infinite series converge at some point. In the resolution **should be explicit** if the serie converge or not. If converges, **¿What is the trend it takes?**.Explain this with a **graph** that can show your point of view.\n",
    "\n",
    "\n",
    "\n",
    "1.   $A=\\sum_{k=0}^{\\infty } {3p}^{k+2} \\;,\\mathrm{where} \\;p=0\\ldotp 88$ (5p)\n",
    "2.   $B=\\sum_{q=1}^{\\infty } \\frac{15}{q^p },\\mathrm{where} \\;p=2$ (5p)\n",
    "\n",
    "\n",
    "\n",
    "Hint: Computers cannot perform infinite loops, it's enough to show the tendency for different iterations.\n",
    "\n",
    "`Import` the libraries that you consider to use.\n"
   ]
  },
  {
   "cell_type": "code",
   "execution_count": 55,
   "metadata": {
    "id": "_Xy8W9sLuWQB",
    "tags": []
   },
   "outputs": [
    {
     "ename": "SyntaxError",
     "evalue": "invalid syntax (2442248660.py, line 8)",
     "output_type": "error",
     "traceback": [
      "\u001b[1;36m  Cell \u001b[1;32mIn[55], line 8\u001b[1;36m\u001b[0m\n\u001b[1;33m    k= np.arange(0,:)\u001b[0m\n\u001b[1;37m                   ^\u001b[0m\n\u001b[1;31mSyntaxError\u001b[0m\u001b[1;31m:\u001b[0m invalid syntax\n"
     ]
    }
   ],
   "source": [
    "#Put your code here\n",
    "\n",
    "import numpy as np\n",
    "import  matplotlib.pyplot as plt \n",
    "import random\n",
    "\n",
    "p=0.88\n",
    "k= np.arange(0,:)\n",
    "f1= 3*p*np.power(k+2)\n"
   ]
  },
  {
   "cell_type": "markdown",
   "metadata": {
    "id": "Zf2zgZ8qubaX"
   },
   "source": [
    "## Exercise 2 : Use and Manegement of arrays (10p)\n",
    "Follow the next instructions step by step:\n",
    "\n",
    "\n",
    "1.   Generate one 5x5 matrix called **matrix1** that should contain values different from 0 in it's diagonal. The values should follow the next function $f\\left(x\\right)=\\frac{3x^4 +e^{\\left(x+2\\right)} }{7x+2}$ and $x=\\left\\lbrack 1,3,5,7,9\\right\\rbrack$. Use **array and exp from numpy library**. (3p)\n",
    "2. .Generate another 5x5 matrix with integer random values from 1 to 12 called **matrix2**. Use **randint from random library** and no iterative cycle it's allowed.(3p)\n",
    "3. As a final step you have to make matrix operations:\n",
    "\n",
    "  *   $5*\\mathrm{matrix1}+\\mathrm{matrix2}-\\left(\\mathrm{matrix1}*\\mathrm{matrix2}\\right)$ (2p)\n",
    "  *   Extract the first column of the $\\mathrm{matrix1}$ as a row **(Cmatrix1)** and the second row of the $\\mathrm{matrix2}$ **(Rmatrix2)**. Then compute $\\frac{\\left(\\mathrm{Cmatrix1}*\\mathrm{Rmatrix2}\\right)}{30}$ (2p)"
   ]
  },
  {
   "cell_type": "markdown",
   "metadata": {},
   "source": [
    "Exercise 2."
   ]
  },
  {
   "cell_type": "code",
   "execution_count": 29,
   "metadata": {
    "id": "M3bN5m7huj3Y",
    "tags": []
   },
   "outputs": [
    {
     "name": "stdout",
     "output_type": "stream",
     "text": [
      "Array: [1 3 5 7 9] \n",
      "\n",
      "Matrix: \n",
      " [[   2.56505966    0.            0.            0.            0.        ]\n",
      " [   0.           17.01796344    0.            0.            0.        ]\n",
      " [   0.            0.           80.31440969    0.            0.        ]\n",
      " [   0.            0.            0.          300.1192927     0.        ]\n",
      " [   0.            0.            0.            0.         1223.95602639]]\n"
     ]
    }
   ],
   "source": [
    "import numpy as np\n",
    "import matplotlib.pyplot as plt\n",
    "\n",
    "#1 \n",
    "\n",
    "#Array \n",
    "x= np.int_([1,3,5,7,9])\n",
    "print (\"Array:\", x, \"\\n\")\n",
    "\n",
    "#Function\n",
    "def function():\n",
    "    return ((3*np.power(x,4)+np.exp(x+2))/(7*x + 2))\n",
    "\n",
    "#Matrix\n",
    "matrix1= np.diag(function(), k=0)\n",
    "print (\"Matrix: \\n\", matrix1)"
   ]
  },
  {
   "cell_type": "code",
   "execution_count": 30,
   "metadata": {
    "tags": []
   },
   "outputs": [
    {
     "name": "stdout",
     "output_type": "stream",
     "text": [
      "[[ 4  1  9 11  5]\n",
      " [10  5  1  1  5]\n",
      " [ 4  1 10  6  9]\n",
      " [ 7  9  4  4  5]\n",
      " [ 2  4  7  1  9]]\n"
     ]
    }
   ],
   "source": [
    "#2\n",
    "matrix2= np.random.randint(1,12, size=(5,5))\n",
    "print (matrix2)"
   ]
  },
  {
   "cell_type": "code",
   "execution_count": 31,
   "metadata": {
    "tags": []
   },
   "outputs": [
    {
     "name": "stdout",
     "output_type": "stream",
     "text": [
      "[[ 6.56505966e+00  1.00000000e+00  9.00000000e+00  1.10000000e+01\n",
      "   5.00000000e+00]\n",
      " [ 1.00000000e+01  5.00000000e+00  1.00000000e+00  1.00000000e+00\n",
      "   5.00000000e+00]\n",
      " [ 4.00000000e+00  1.00000000e+00 -3.91572048e+02  6.00000000e+00\n",
      "   9.00000000e+00]\n",
      " [ 7.00000000e+00  9.00000000e+00  4.00000000e+00  3.04119293e+02\n",
      "   5.00000000e+00]\n",
      " [ 2.00000000e+00  4.00000000e+00  7.00000000e+00  1.00000000e+00\n",
      "  -4.88682411e+03]]\n"
     ]
    }
   ],
   "source": [
    "#3\n",
    "\n",
    "#Operations\n",
    "x= 5*matrix1+matrix2 - (matrix1*matrix2)\n",
    "print (x)\n",
    " "
   ]
  },
  {
   "cell_type": "code",
   "execution_count": 33,
   "metadata": {
    "tags": []
   },
   "outputs": [
    {
     "name": "stdout",
     "output_type": "stream",
     "text": [
      "Cmatrix1 [2.56505966 0.         0.         0.         0.        ]\n",
      "Rmatrix2 [10  5  1  1  5]\n",
      "Solution [0.85501989 0.         0.         0.         0.        ]\n"
     ]
    }
   ],
   "source": [
    "Cmatrix1= matrix1[:,0]\n",
    "print (\"Cmatrix1\", Cmatrix1)\n",
    "\n",
    "Rmatrix2=matrix2[1,:]\n",
    "print (\"Rmatrix2\", Rmatrix2)\n",
    "\n",
    "d=(Cmatrix1*Rmatrix2)/30\n",
    "print (\"Solution\", d)"
   ]
  }
 ],
 "metadata": {
  "colab": {
   "authorship_tag": "ABX9TyMgytDuKKQnAMO+pVobVwEA",
   "provenance": []
  },
  "kernelspec": {
   "display_name": "Python 3 (ipykernel)",
   "language": "python",
   "name": "python3"
  },
  "language_info": {
   "codemirror_mode": {
    "name": "ipython",
    "version": 3
   },
   "file_extension": ".py",
   "mimetype": "text/x-python",
   "name": "python",
   "nbconvert_exporter": "python",
   "pygments_lexer": "ipython3",
   "version": "3.11.2"
  }
 },
 "nbformat": 4,
 "nbformat_minor": 4
}
