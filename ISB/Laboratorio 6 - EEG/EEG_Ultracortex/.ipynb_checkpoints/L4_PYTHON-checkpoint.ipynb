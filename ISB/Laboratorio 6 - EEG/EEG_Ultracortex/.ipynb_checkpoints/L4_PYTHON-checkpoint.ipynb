{
  "nbformat": 4,
  "nbformat_minor": 0,
  "metadata": {
    "colab": {
      "provenance": []
    },
    "kernelspec": {
      "name": "python3",
      "display_name": "Python 3"
    },
    "language_info": {
      "name": "python"
    }
  },
  "cells": [
    {
      "cell_type": "markdown",
      "source": [
        "# **Definition of Functions**"
      ],
      "metadata": {
        "id": "gQzLxKUkPHjq"
      }
    },
    {
      "cell_type": "code",
      "source": [
        "import numpy as np\n",
        "import scipy.signal as sig\n",
        "import scipy.fft as ft\n",
        "import matplotlib.pyplot as plt\n",
        "\n",
        "def fundamental_range_freq(signal):\n",
        "  N_size = len(signal);\n",
        "  w = 2*np.pi* np.arange(N_size)/ N_size;\n",
        "  w = ft.fftshift(w);\n",
        "  w = np.unwrap(w - 2*np.pi);\n",
        "  return w\n"
      ],
      "metadata": {
        "id": "-xw5K-n-PGjz"
      },
      "execution_count": null,
      "outputs": []
    },
    {
      "cell_type": "markdown",
      "source": [
        "# **Question 1**"
      ],
      "metadata": {
        "id": "-_a9IR-1qzDS"
      }
    },
    {
      "cell_type": "markdown",
      "source": [
        "a) Let the real discrete-time signal $x[n]$ with a Fourier Transform X() be the input to a system with the output defined by:\n",
        "\n",
        "$y[n] = 2.e^{j.w_0.n}.x[-n+d]$, being $d=12$ and $w_0=π/2$.\n",
        " \n",
        "Find the relationship between both Discrete-Time Fourier Transforms using known properties. **(2.0 points)**"
      ],
      "metadata": {
        "id": "4fpkmxo6rD5C"
      }
    },
    {
      "cell_type": "code",
      "source": [],
      "metadata": {
        "id": "iWQjyCkPQaap"
      },
      "execution_count": null,
      "outputs": []
    },
    {
      "cell_type": "markdown",
      "source": [
        "b) $H(e^{jw})$ is an ideal low-pass filter. Find $h[n]$ using the inverse DTFT theory and plot $h[n]$ with N = 121, $\\alpha=30$, $w_c=\\pi/6$. **(2.5 points)**\n",
        "\n",
        "\\begin{equation}\n",
        "H(e^{jw}) = \n",
        "\\left\\{\\begin{matrix}\n",
        "1.e^{-jw\\alpha}, w_c<w<w_c\n",
        "\\\\ \n",
        "0, otherwise \n",
        "\\end{matrix}\\right.\n",
        "\\end{equation}\n",
        "\n"
      ],
      "metadata": {
        "id": "ODqFoNngoufI"
      }
    },
    {
      "cell_type": "code",
      "source": [],
      "metadata": {
        "id": "gslYw-iEQbZQ"
      },
      "execution_count": null,
      "outputs": []
    },
    {
      "cell_type": "markdown",
      "source": [
        "c) Plot the magnitude and phase of the frequency response of $h[n]$ using the expression found in the previous item and using the DTFT definition. Consider N=512. **(2.0 points)**"
      ],
      "metadata": {
        "id": "lyIFYKSRN6WS"
      }
    },
    {
      "cell_type": "code",
      "source": [],
      "metadata": {
        "id": "smcV3t13Qb3W"
      },
      "execution_count": null,
      "outputs": []
    },
    {
      "cell_type": "markdown",
      "source": [
        "d) Knowing that $x[n]$ has the following form:  $x[n] = 1.5.cos(n.\\pi/3).u[n] + 3.cos(n.\\pi/12).u[n]$. Obtain the DTFT of x[n] and y[n] with N=512. Plot its magnitude and phase spectrum in a single figure. **(3.0 points)**\n",
        "\n",
        "$y[n] = 2.e^{j.w_0.n}.x[-n+d]$\n",
        " "
      ],
      "metadata": {
        "id": "v4QzeKfTmBGF"
      }
    },
    {
      "cell_type": "code",
      "source": [],
      "metadata": {
        "id": "2dG7ceyAQcox"
      },
      "execution_count": null,
      "outputs": []
    },
    {
      "cell_type": "markdown",
      "source": [
        "e) Apply the previously found relationship to $X(e^{jw})$ and obtain $Y(e^{jw})$. Does the previously found relationship prevail? **(2.0 points)**"
      ],
      "metadata": {
        "id": "JGRhFO4ysPUi"
      }
    },
    {
      "cell_type": "code",
      "source": [],
      "metadata": {
        "id": "jLaUpZK0QdKm"
      },
      "execution_count": null,
      "outputs": []
    },
    {
      "cell_type": "markdown",
      "source": [
        "f) Apply element-wise multiplication of $X(e^{jw})$ and $Y(e^{jw})$ with $H(e^{jw})$, now known as $X_f(e^{jw})$ and $Y_f(e^{jw})$. Plot both frequency responses in the same figure with appropiate labels. Does the multiplication have any effect on the signals? **(2.0 points)**"
      ],
      "metadata": {
        "id": "YjHFrjZcI6r6"
      }
    },
    {
      "cell_type": "code",
      "source": [],
      "metadata": {
        "id": "cEyPwQ-zQdvu"
      },
      "execution_count": null,
      "outputs": []
    },
    {
      "cell_type": "markdown",
      "source": [
        "g) Apply the inverse DTFT to both new signals and plot them side by side with the original signals. Comment any remarks that you see on the resultant figures. **(1.5 points)**"
      ],
      "metadata": {
        "id": "yypTUDFmJ8BY"
      }
    },
    {
      "cell_type": "code",
      "source": [],
      "metadata": {
        "id": "bpZ7BfZvQCH2"
      },
      "execution_count": null,
      "outputs": []
    }
  ]
}