{
 "cells": [
  {
   "cell_type": "markdown",
   "metadata": {
    "id": "D_uoWvX8t3os"
   },
   "source": [
    "# Guided practice 1 (PG1)\n",
    "## Exercise 1 : Evaluation of convergence of infinite series (10p)\n",
    "\n",
    "\n",
    "Generate a code that can help you to identify if the next infinite series converge at some point. In the resolution **should be explicit** if the serie converge or not. If converges, **¿What is the trend it takes?**.Explain this with a **graph** that can show your point of view.\n",
    "\n",
    "\n",
    "\n",
    "1.   $A=\\sum_{k=0}^{\\infty } {3p}^{k+2} \\;,\\mathrm{where} \\;p=0\\ldotp 88$ (5p)\n",
    "2.   $B=\\sum_{q=1}^{\\infty } \\frac{15}{q^p },\\mathrm{where} \\;p=2$ (5p)\n",
    "\n",
    "\n",
    "\n",
    "Hint: Computers cannot perform infinite loops, it's enough to show the tendency for different iterations.\n",
    "\n",
    "`Import` the libraries that you consider to use.\n"
   ]
  },
  {
   "cell_type": "code",
   "execution_count": 1,
   "metadata": {
    "id": "_Xy8W9sLuWQB"
   },
   "outputs": [],
   "source": [
    "#Put your code here\n",
    "\n",
    "import numpy as np\n",
    "import matplotlib.pyplot as plt \n",
    "import random\n"
   ]
  },
  {
   "cell_type": "code",
   "execution_count": 2,
   "metadata": {
    "tags": []
   },
   "outputs": [
    {
     "data": {
      "image/png": "[encoded data removed]",
      "text/plain": [
       "<Figure size 640x480 with 1 Axes>"
      ]
     },
     "metadata": {},
     "output_type": "display_data"
    }
   ],
   "source": [
    "x = np.linspace(-2*np.pi, 2*np.pi, 100)\n",
    "xx = x + 1j * x[:, np.newaxis] # a + ib over complex plane\n",
    "out = np.exp(xx)\n",
    "\n",
    "plt.subplot(122)\n",
    "plt.imshow(np.angle(out),\n",
    "           extent=[-2*np.pi, 2*np.pi, -2*np.pi, 2*np.pi], cmap='hsv')\n",
    "plt.title('Phase (angle) of exp(x)')\n",
    "plt.show()"
   ]
  },
  {
   "cell_type": "markdown",
   "metadata": {
    "id": "Zf2zgZ8qubaX"
   },
   "source": [
    "## Exercise 2 : Use and Manegement of arrays (10p)\n",
    "Follow the next instructions step by step:\n",
    "\n",
    "\n",
    "1.   Generate one 5x5 matrix called **matrix1** that should contain values different from 0 in it's diagonal. The values should follow the next function $f\\left(x\\right)=\\frac{3x^4 +e^{\\left(x+2\\right)} }{7x+2}$ and $x=\\left\\lbrack 1,3,5,7,9\\right\\rbrack$. Use **array and exp from numpy library**. (3p)\n",
    "2. .Generate another 5x5 matrix with integer random values from 1 to 12 called **matrix2**. Use **randint from random library** and no iterative cycle it's allowed.(3p)\n",
    "3. As a final step you have to make matrix operations:\n",
    "\n",
    "  *   $5*\\mathrm{matrix1}+\\mathrm{matrix2}-\\left(\\mathrm{matrix1}*\\mathrm{matrix2}\\right)$ (2p)\n",
    "  *   Extract the first column of the $\\mathrm{matrix1}$ as a row **(Cmatrix1)** and the second row of the $\\mathrm{matrix2}$ **(Rmatrix2)**. Then compute $\\frac{\\left(\\mathrm{Cmatrix1}*\\mathrm{Rmatrix2}\\right)}{30}$ (2p)"
   ]
  },
  {
   "cell_type": "code",
   "execution_count": null,
   "metadata": {},
   "outputs": [],
   "source": []
  },
  {
   "cell_type": "code",
   "execution_count": 3,
   "metadata": {
    "id": "M3bN5m7huj3Y",
    "tags": []
   },
   "outputs": [
    {
     "data": {
      "text/plain": [
       "array([[0.        , 0.03946899, 0.06413264, 0.69942874, 0.26342165],\n",
       "       [0.37384862, 0.        , 0.43761658, 0.04028106, 0.28251612],\n",
       "       [0.41147441, 0.20925435, 0.        , 0.04384696, 0.84988858],\n",
       "       [0.43718911, 0.05005723, 0.86423223, 0.        , 0.11454088],\n",
       "       [0.31831245, 0.24871264, 0.64079765, 0.54265934, 0.        ]])"
      ]
     },
     "execution_count": 3,
     "metadata": {},
     "output_type": "execute_result"
    }
   ],
   "source": [
    "matrix1 = np.random.rand(5, 5)\n",
    "matrix1[0, 0]=0; matrix1[1, 1]=0; matrix1[2, 2]=0; matrix1[3, 3]=0; matrix1[4, 4]=0;\n",
    "matrix1"
   ]
  },
  {
   "cell_type": "code",
   "execution_count": 4,
   "metadata": {
    "tags": []
   },
   "outputs": [
    {
     "data": {
      "text/plain": [
       "array([[ 4,  8, 10,  8, 11],\n",
       "       [ 7, 10,  6,  3,  1],\n",
       "       [ 3,  6,  1, 10,  2],\n",
       "       [ 2,  1,  3, 11, 11],\n",
       "       [ 4,  7,  2,  7,  9]])"
      ]
     },
     "execution_count": 4,
     "metadata": {},
     "output_type": "execute_result"
    }
   ],
   "source": [
    "matrix2 = np.random.randint(12, size=(5, 5))\n",
    "matrix2"
   ]
  },
  {
   "cell_type": "code",
   "execution_count": 21,
   "metadata": {
    "tags": []
   },
   "outputs": [
    {
     "name": "stdout",
     "output_type": "stream",
     "text": [
      "[[ 2.92122493  3.32286604  2.9260761  10.29740104 10.23224525]\n",
      " [ 4.0188708   7.63438232  4.8619782   9.78765921  7.97330467]\n",
      " [ 6.59792633 11.37740582  7.20158827 10.35109492 12.86678662]\n",
      " [ 5.15001722  9.98526464  5.76554842 13.09179294  7.61846973]\n",
      " [ 6.02194993  9.42107126  6.94417606 15.66986682 11.00099772]]\n",
      "[[ 4.          8.19734495 10.32066319 11.49714369 12.31710826]\n",
      " [ 8.86924311 10.          8.18808289  3.20140529  2.41258058]\n",
      " [ 5.05737207  7.04627176  1.         10.21923478  6.24944289]\n",
      " [ 4.18594553  1.25028615  7.32116114 11.         11.57270438]\n",
      " [ 5.59156227  8.2435632   5.20398824  9.71329672  9.        ]]\n",
      "[[ 1.07877507  4.87447891  7.3945871   1.19974265  2.08486301]\n",
      " [ 4.8503723   2.36561768  3.3261047  -6.58625392 -5.56072409]\n",
      " [-1.54055427 -4.33113406 -6.20158827 -0.13186014 -6.61734373]\n",
      " [-0.96407168 -8.73497849  1.55561272 -2.09179294  3.95423465]\n",
      " [-0.43038765 -1.17750807 -1.74018782 -5.9565701  -2.00099772]]\n"
     ]
    }
   ],
   "source": [
    "mat2 = np.matmul(matrix1, matrix2)\n",
    "print(mat2)\n",
    "#matrix2 * 5 \n",
    "mat1=5 * matrix1 + matrix2\n",
    "print(mat1)\n",
    "mat3 = mat1 - mat2\n",
    "print(mat3)\n",
    "#for this case I separate the ecuation in 2 parts one named \"mat1\" and the other \"mat2\"\n",
    "#print function was used to verify the correct output of the problem"
   ]
  },
  {
   "cell_type": "code",
   "execution_count": null,
   "metadata": {},
   "outputs": [],
   "source": []
  },
  {
   "cell_type": "code",
   "execution_count": 14,
   "metadata": {
    "tags": []
   },
   "outputs": [
    {
     "data": {
      "text/plain": [
       "array([-1.,  1.])"
      ]
     },
     "execution_count": 14,
     "metadata": {},
     "output_type": "execute_result"
    }
   ],
   "source": [
    "a = np.array([[1, 2], [3, 5]])\n",
    "b = np.array([1, 2])\n",
    "x = np.linalg.solve(a, b)\n",
    "x"
   ]
  }
 ],
 "metadata": {
  "colab": {
   "authorship_tag": "ABX9TyMgytDuKKQnAMO+pVobVwEA",
   "provenance": []
  },
  "kernelspec": {
   "display_name": "Python 3 (ipykernel)",
   "language": "python",
   "name": "python3"
  },
  "language_info": {
   "codemirror_mode": {
    "name": "ipython",
    "version": 3
   },
   "file_extension": ".py",
   "mimetype": "text/x-python",
   "name": "python",
   "nbconvert_exporter": "python",
   "pygments_lexer": "ipython3",
   "version": "3.11.2"
  }
 },
 "nbformat": 4,
 "nbformat_minor": 4
}
